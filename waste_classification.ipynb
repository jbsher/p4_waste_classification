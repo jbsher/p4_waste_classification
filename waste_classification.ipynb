{
  "nbformat": 4,
  "nbformat_minor": 0,
  "metadata": {
    "colab": {
      "provenance": [],
      "gpuType": "T4",
      "mount_file_id": "1-6P7ycoWz_juyv9rMOheUY9vW0vfEfgK",
      "authorship_tag": "ABX9TyNvYrXXMqsCKVvjsVtRnHzR",
      "include_colab_link": true
    },
    "kernelspec": {
      "name": "python3",
      "display_name": "Python 3"
    },
    "language_info": {
      "name": "python"
    },
    "accelerator": "GPU"
  },
  "cells": [
    {
      "cell_type": "markdown",
      "metadata": {
        "id": "view-in-github",
        "colab_type": "text"
      },
      "source": [
        "<a href=\"https://colab.research.google.com/github/jbsher/p4_waste_classification/blob/master/waste_classification.ipynb\" target=\"_parent\"><img src=\"https://colab.research.google.com/assets/colab-badge.svg\" alt=\"Open In Colab\"/></a>"
      ]
    },
    {
      "cell_type": "code",
      "source": [
        "import cv2\n",
        "import os\n",
        "import numpy as np\n",
        "import pandas as pd\n",
        "import tensorflow as tf\n",
        "\n",
        "from google.colab import drive\n",
        "from sklearn.model_selection import train_test_split, GridSearchCV\n",
        "from tensorflow.keras.models import Sequential\n",
        "from tensorflow.keras.layers import Conv2D, MaxPooling2D, Flatten, Dense, Dropout\n",
        "from tensorflow.keras.callbacks import EarlyStopping, ReduceLROnPlateau\n",
        "from tensorflow.keras.preprocessing.image import ImageDataGenerator\n",
        "from tensorflow.keras.wrappers.scikit_learn import KerasClassifier\n",
        "\n"
      ],
      "metadata": {
        "id": "CEsSQB-0uekZ"
      },
      "execution_count": 2,
      "outputs": []
    },
    {
      "cell_type": "code",
      "source": [
        "drive.mount('/content/drive')\n"
      ],
      "metadata": {
        "colab": {
          "base_uri": "https://localhost:8080/"
        },
        "id": "MLhUYX6-sYBP",
        "outputId": "4db644dc-6e23-43f1-be9b-0990f669cae8"
      },
      "execution_count": 3,
      "outputs": [
        {
          "output_type": "stream",
          "name": "stdout",
          "text": [
            "Drive already mounted at /content/drive; to attempt to forcibly remount, call drive.mount(\"/content/drive\", force_remount=True).\n"
          ]
        }
      ]
    },
    {
      "cell_type": "code",
      "source": [
        "# The main directory containing the subdirectories of images\n",
        "train_dir = '/content/drive/MyDrive/Colab Notebooks/TRAIN'\n",
        "\n",
        "# Subdirectories\n",
        "sub_dirs = ['O', 'R']\n",
        "\n",
        "# Initialize empty lists to store the images and labels\n",
        "images = []\n",
        "labels = []\n",
        "\n",
        "# Loop over each subdirectory\n",
        "for sub_dir in sub_dirs:\n",
        "    # Create full path to subdirectory\n",
        "    full_dir = os.path.join(train_dir, sub_dir)\n",
        "\n",
        "    # Get file names in the folder\n",
        "    image_names = os.listdir(full_dir)\n",
        "\n",
        "    # Print the number of files in this subdirectory\n",
        "    print(f'Number of files in {sub_dir} directory:', len(image_names))\n",
        "\n",
        "    # Loop over the images in the subdirectory\n",
        "    for image_name in image_names:\n",
        "        # Construct the full path of the image\n",
        "        image_path = os.path.join(full_dir, image_name)\n",
        "\n",
        "        # Read the image from file\n",
        "        image = cv2.imread(image_path)\n",
        "\n",
        "        if image is not None:\n",
        "            # Resize the image to 28x28\n",
        "            image = cv2.resize(image, (28, 28))\n",
        "\n",
        "            # Append the image to the images list\n",
        "            images.append(image)\n",
        "\n",
        "            # Assign label based on the subdirectory\n",
        "            if sub_dir == 'O':\n",
        "                labels.append(0)\n",
        "            elif sub_dir == 'R':\n",
        "                labels.append(1)\n",
        "        else:\n",
        "            print(f\"Failed to load image at {image_path}\")\n",
        "\n",
        "# Convert the list of images to a numpy array\n",
        "images = np.array(images)\n",
        "\n",
        "# Normalize the images\n",
        "images = images / 255.0\n",
        "print('Images shape:', images.shape)\n",
        "\n",
        "# Convert the list of labels to a numpy array\n",
        "labels = np.array(labels)\n",
        "print('Labels shape:', labels.shape)\n"
      ],
      "metadata": {
        "colab": {
          "base_uri": "https://localhost:8080/"
        },
        "id": "X-nCCZ0rw_Fb",
        "outputId": "567a694b-7dde-450d-a459-6793d90ae948"
      },
      "execution_count": 4,
      "outputs": [
        {
          "output_type": "stream",
          "name": "stdout",
          "text": [
            "Number of files in O directory: 12565\n",
            "Number of files in R directory: 9999\n",
            "Images shape: (22564, 28, 28, 3)\n",
            "Labels shape: (22564,)\n"
          ]
        }
      ]
    },
    {
      "cell_type": "code",
      "source": [
        "# Flatten the images\n",
        "n_samples = len(images)\n",
        "flattened_images = images.reshape((n_samples, -1))\n",
        "\n",
        "# Create a DataFrame\n",
        "data = {'label': labels}\n",
        "for i in range(flattened_images.shape[1]):\n",
        "    data[f'pixel_{i}'] = flattened_images[:, i]\n",
        "\n",
        "images_df = pd.DataFrame(data)\n",
        "\n",
        "\n",
        "images_df.to_csv('/content/drive/MyDrive/Colab Notebooks/images.csv')"
      ],
      "metadata": {
        "id": "Fa3AdVSgc8BG"
      },
      "execution_count": 5,
      "outputs": []
    },
    {
      "cell_type": "code",
      "source": [
        "# Read in here so we don't create a new csv file\n",
        "images_df = pd.read_csv('/content/drive/MyDrive/Colab Notebooks/images.csv')"
      ],
      "metadata": {
        "id": "_tACR1UieFVF"
      },
      "execution_count": 4,
      "outputs": []
    },
    {
      "cell_type": "code",
      "execution_count": 7,
      "metadata": {
        "colab": {
          "base_uri": "https://localhost:8080/",
          "height": 256
        },
        "id": "bm2jeYLwtxw0",
        "outputId": "166064d7-f4cf-4720-c24e-d1d33550d483"
      },
      "outputs": [
        {
          "output_type": "execute_result",
          "data": {
            "text/plain": [
              "   label   pixel_0   pixel_1   pixel_2   pixel_3   pixel_4   pixel_5  \\\n",
              "0      0  0.886275  0.850980  0.811765  0.913725  0.878431  0.839216   \n",
              "1      0  0.258824  0.360784  0.721569  0.152941  0.258824  0.639216   \n",
              "2      0  1.000000  1.000000  1.000000  1.000000  1.000000  1.000000   \n",
              "3      0  0.768627  0.729412  0.701961  0.768627  0.729412  0.701961   \n",
              "4      0  0.721569  0.827451  0.909804  0.670588  0.784314  0.898039   \n",
              "\n",
              "    pixel_6   pixel_7   pixel_8  ...  pixel_2342  pixel_2343  pixel_2344  \\\n",
              "0  0.933333  0.901961  0.850980  ...    0.294118    0.572549    0.588235   \n",
              "1  0.062745  0.152941  0.427451  ...    0.596078    0.690196    0.615686   \n",
              "2  1.000000  1.000000  1.000000  ...    1.000000    1.000000    1.000000   \n",
              "3  0.768627  0.729412  0.701961  ...    0.705882    0.705882    0.705882   \n",
              "4  0.623529  0.729412  0.862745  ...    0.819608    0.203922    0.356863   \n",
              "\n",
              "   pixel_2345  pixel_2346  pixel_2347  pixel_2348  pixel_2349  pixel_2350  \\\n",
              "0    0.631373    0.635294    0.670588    0.694118    0.505882    0.552941   \n",
              "1    0.607843    0.698039    0.619608    0.611765    0.690196    0.643137   \n",
              "2    1.000000    1.000000    1.000000    1.000000    1.000000    1.000000   \n",
              "3    0.705882    0.709804    0.709804    0.709804    0.713725    0.713725   \n",
              "4    0.517647    0.266667    0.380392    0.517647    0.325490    0.400000   \n",
              "\n",
              "   pixel_2351  \n",
              "0    0.600000  \n",
              "1    0.627451  \n",
              "2    1.000000  \n",
              "3    0.713725  \n",
              "4    0.529412  \n",
              "\n",
              "[5 rows x 2353 columns]"
            ],
            "text/html": [
              "\n",
              "  <div id=\"df-b25d7c3d-d755-4a48-8923-59b89ef172e2\" class=\"colab-df-container\">\n",
              "    <div>\n",
              "<style scoped>\n",
              "    .dataframe tbody tr th:only-of-type {\n",
              "        vertical-align: middle;\n",
              "    }\n",
              "\n",
              "    .dataframe tbody tr th {\n",
              "        vertical-align: top;\n",
              "    }\n",
              "\n",
              "    .dataframe thead th {\n",
              "        text-align: right;\n",
              "    }\n",
              "</style>\n",
              "<table border=\"1\" class=\"dataframe\">\n",
              "  <thead>\n",
              "    <tr style=\"text-align: right;\">\n",
              "      <th></th>\n",
              "      <th>label</th>\n",
              "      <th>pixel_0</th>\n",
              "      <th>pixel_1</th>\n",
              "      <th>pixel_2</th>\n",
              "      <th>pixel_3</th>\n",
              "      <th>pixel_4</th>\n",
              "      <th>pixel_5</th>\n",
              "      <th>pixel_6</th>\n",
              "      <th>pixel_7</th>\n",
              "      <th>pixel_8</th>\n",
              "      <th>...</th>\n",
              "      <th>pixel_2342</th>\n",
              "      <th>pixel_2343</th>\n",
              "      <th>pixel_2344</th>\n",
              "      <th>pixel_2345</th>\n",
              "      <th>pixel_2346</th>\n",
              "      <th>pixel_2347</th>\n",
              "      <th>pixel_2348</th>\n",
              "      <th>pixel_2349</th>\n",
              "      <th>pixel_2350</th>\n",
              "      <th>pixel_2351</th>\n",
              "    </tr>\n",
              "  </thead>\n",
              "  <tbody>\n",
              "    <tr>\n",
              "      <th>0</th>\n",
              "      <td>0</td>\n",
              "      <td>0.886275</td>\n",
              "      <td>0.850980</td>\n",
              "      <td>0.811765</td>\n",
              "      <td>0.913725</td>\n",
              "      <td>0.878431</td>\n",
              "      <td>0.839216</td>\n",
              "      <td>0.933333</td>\n",
              "      <td>0.901961</td>\n",
              "      <td>0.850980</td>\n",
              "      <td>...</td>\n",
              "      <td>0.294118</td>\n",
              "      <td>0.572549</td>\n",
              "      <td>0.588235</td>\n",
              "      <td>0.631373</td>\n",
              "      <td>0.635294</td>\n",
              "      <td>0.670588</td>\n",
              "      <td>0.694118</td>\n",
              "      <td>0.505882</td>\n",
              "      <td>0.552941</td>\n",
              "      <td>0.600000</td>\n",
              "    </tr>\n",
              "    <tr>\n",
              "      <th>1</th>\n",
              "      <td>0</td>\n",
              "      <td>0.258824</td>\n",
              "      <td>0.360784</td>\n",
              "      <td>0.721569</td>\n",
              "      <td>0.152941</td>\n",
              "      <td>0.258824</td>\n",
              "      <td>0.639216</td>\n",
              "      <td>0.062745</td>\n",
              "      <td>0.152941</td>\n",
              "      <td>0.427451</td>\n",
              "      <td>...</td>\n",
              "      <td>0.596078</td>\n",
              "      <td>0.690196</td>\n",
              "      <td>0.615686</td>\n",
              "      <td>0.607843</td>\n",
              "      <td>0.698039</td>\n",
              "      <td>0.619608</td>\n",
              "      <td>0.611765</td>\n",
              "      <td>0.690196</td>\n",
              "      <td>0.643137</td>\n",
              "      <td>0.627451</td>\n",
              "    </tr>\n",
              "    <tr>\n",
              "      <th>2</th>\n",
              "      <td>0</td>\n",
              "      <td>1.000000</td>\n",
              "      <td>1.000000</td>\n",
              "      <td>1.000000</td>\n",
              "      <td>1.000000</td>\n",
              "      <td>1.000000</td>\n",
              "      <td>1.000000</td>\n",
              "      <td>1.000000</td>\n",
              "      <td>1.000000</td>\n",
              "      <td>1.000000</td>\n",
              "      <td>...</td>\n",
              "      <td>1.000000</td>\n",
              "      <td>1.000000</td>\n",
              "      <td>1.000000</td>\n",
              "      <td>1.000000</td>\n",
              "      <td>1.000000</td>\n",
              "      <td>1.000000</td>\n",
              "      <td>1.000000</td>\n",
              "      <td>1.000000</td>\n",
              "      <td>1.000000</td>\n",
              "      <td>1.000000</td>\n",
              "    </tr>\n",
              "    <tr>\n",
              "      <th>3</th>\n",
              "      <td>0</td>\n",
              "      <td>0.768627</td>\n",
              "      <td>0.729412</td>\n",
              "      <td>0.701961</td>\n",
              "      <td>0.768627</td>\n",
              "      <td>0.729412</td>\n",
              "      <td>0.701961</td>\n",
              "      <td>0.768627</td>\n",
              "      <td>0.729412</td>\n",
              "      <td>0.701961</td>\n",
              "      <td>...</td>\n",
              "      <td>0.705882</td>\n",
              "      <td>0.705882</td>\n",
              "      <td>0.705882</td>\n",
              "      <td>0.705882</td>\n",
              "      <td>0.709804</td>\n",
              "      <td>0.709804</td>\n",
              "      <td>0.709804</td>\n",
              "      <td>0.713725</td>\n",
              "      <td>0.713725</td>\n",
              "      <td>0.713725</td>\n",
              "    </tr>\n",
              "    <tr>\n",
              "      <th>4</th>\n",
              "      <td>0</td>\n",
              "      <td>0.721569</td>\n",
              "      <td>0.827451</td>\n",
              "      <td>0.909804</td>\n",
              "      <td>0.670588</td>\n",
              "      <td>0.784314</td>\n",
              "      <td>0.898039</td>\n",
              "      <td>0.623529</td>\n",
              "      <td>0.729412</td>\n",
              "      <td>0.862745</td>\n",
              "      <td>...</td>\n",
              "      <td>0.819608</td>\n",
              "      <td>0.203922</td>\n",
              "      <td>0.356863</td>\n",
              "      <td>0.517647</td>\n",
              "      <td>0.266667</td>\n",
              "      <td>0.380392</td>\n",
              "      <td>0.517647</td>\n",
              "      <td>0.325490</td>\n",
              "      <td>0.400000</td>\n",
              "      <td>0.529412</td>\n",
              "    </tr>\n",
              "  </tbody>\n",
              "</table>\n",
              "<p>5 rows × 2353 columns</p>\n",
              "</div>\n",
              "    <div class=\"colab-df-buttons\">\n",
              "\n",
              "  <div class=\"colab-df-container\">\n",
              "    <button class=\"colab-df-convert\" onclick=\"convertToInteractive('df-b25d7c3d-d755-4a48-8923-59b89ef172e2')\"\n",
              "            title=\"Convert this dataframe to an interactive table.\"\n",
              "            style=\"display:none;\">\n",
              "\n",
              "  <svg xmlns=\"http://www.w3.org/2000/svg\" height=\"24px\" viewBox=\"0 -960 960 960\">\n",
              "    <path d=\"M120-120v-720h720v720H120Zm60-500h600v-160H180v160Zm220 220h160v-160H400v160Zm0 220h160v-160H400v160ZM180-400h160v-160H180v160Zm440 0h160v-160H620v160ZM180-180h160v-160H180v160Zm440 0h160v-160H620v160Z\"/>\n",
              "  </svg>\n",
              "    </button>\n",
              "\n",
              "  <style>\n",
              "    .colab-df-container {\n",
              "      display:flex;\n",
              "      gap: 12px;\n",
              "    }\n",
              "\n",
              "    .colab-df-convert {\n",
              "      background-color: #E8F0FE;\n",
              "      border: none;\n",
              "      border-radius: 50%;\n",
              "      cursor: pointer;\n",
              "      display: none;\n",
              "      fill: #1967D2;\n",
              "      height: 32px;\n",
              "      padding: 0 0 0 0;\n",
              "      width: 32px;\n",
              "    }\n",
              "\n",
              "    .colab-df-convert:hover {\n",
              "      background-color: #E2EBFA;\n",
              "      box-shadow: 0px 1px 2px rgba(60, 64, 67, 0.3), 0px 1px 3px 1px rgba(60, 64, 67, 0.15);\n",
              "      fill: #174EA6;\n",
              "    }\n",
              "\n",
              "    .colab-df-buttons div {\n",
              "      margin-bottom: 4px;\n",
              "    }\n",
              "\n",
              "    [theme=dark] .colab-df-convert {\n",
              "      background-color: #3B4455;\n",
              "      fill: #D2E3FC;\n",
              "    }\n",
              "\n",
              "    [theme=dark] .colab-df-convert:hover {\n",
              "      background-color: #434B5C;\n",
              "      box-shadow: 0px 1px 3px 1px rgba(0, 0, 0, 0.15);\n",
              "      filter: drop-shadow(0px 1px 2px rgba(0, 0, 0, 0.3));\n",
              "      fill: #FFFFFF;\n",
              "    }\n",
              "  </style>\n",
              "\n",
              "    <script>\n",
              "      const buttonEl =\n",
              "        document.querySelector('#df-b25d7c3d-d755-4a48-8923-59b89ef172e2 button.colab-df-convert');\n",
              "      buttonEl.style.display =\n",
              "        google.colab.kernel.accessAllowed ? 'block' : 'none';\n",
              "\n",
              "      async function convertToInteractive(key) {\n",
              "        const element = document.querySelector('#df-b25d7c3d-d755-4a48-8923-59b89ef172e2');\n",
              "        const dataTable =\n",
              "          await google.colab.kernel.invokeFunction('convertToInteractive',\n",
              "                                                    [key], {});\n",
              "        if (!dataTable) return;\n",
              "\n",
              "        const docLinkHtml = 'Like what you see? Visit the ' +\n",
              "          '<a target=\"_blank\" href=https://colab.research.google.com/notebooks/data_table.ipynb>data table notebook</a>'\n",
              "          + ' to learn more about interactive tables.';\n",
              "        element.innerHTML = '';\n",
              "        dataTable['output_type'] = 'display_data';\n",
              "        await google.colab.output.renderOutput(dataTable, element);\n",
              "        const docLink = document.createElement('div');\n",
              "        docLink.innerHTML = docLinkHtml;\n",
              "        element.appendChild(docLink);\n",
              "      }\n",
              "    </script>\n",
              "  </div>\n",
              "\n",
              "\n",
              "<div id=\"df-82a925e5-b730-4976-af1d-05fc99b48921\">\n",
              "  <button class=\"colab-df-quickchart\" onclick=\"quickchart('df-82a925e5-b730-4976-af1d-05fc99b48921')\"\n",
              "            title=\"Suggest charts.\"\n",
              "            style=\"display:none;\">\n",
              "\n",
              "<svg xmlns=\"http://www.w3.org/2000/svg\" height=\"24px\"viewBox=\"0 0 24 24\"\n",
              "     width=\"24px\">\n",
              "    <g>\n",
              "        <path d=\"M19 3H5c-1.1 0-2 .9-2 2v14c0 1.1.9 2 2 2h14c1.1 0 2-.9 2-2V5c0-1.1-.9-2-2-2zM9 17H7v-7h2v7zm4 0h-2V7h2v10zm4 0h-2v-4h2v4z\"/>\n",
              "    </g>\n",
              "</svg>\n",
              "  </button>\n",
              "\n",
              "<style>\n",
              "  .colab-df-quickchart {\n",
              "    background-color: #E8F0FE;\n",
              "    border: none;\n",
              "    border-radius: 50%;\n",
              "    cursor: pointer;\n",
              "    display: none;\n",
              "    fill: #1967D2;\n",
              "    height: 32px;\n",
              "    padding: 0 0 0 0;\n",
              "    width: 32px;\n",
              "  }\n",
              "\n",
              "  .colab-df-quickchart:hover {\n",
              "    background-color: #E2EBFA;\n",
              "    box-shadow: 0px 1px 2px rgba(60, 64, 67, 0.3), 0px 1px 3px 1px rgba(60, 64, 67, 0.15);\n",
              "    fill: #174EA6;\n",
              "  }\n",
              "\n",
              "  [theme=dark] .colab-df-quickchart {\n",
              "    background-color: #3B4455;\n",
              "    fill: #D2E3FC;\n",
              "  }\n",
              "\n",
              "  [theme=dark] .colab-df-quickchart:hover {\n",
              "    background-color: #434B5C;\n",
              "    box-shadow: 0px 1px 3px 1px rgba(0, 0, 0, 0.15);\n",
              "    filter: drop-shadow(0px 1px 2px rgba(0, 0, 0, 0.3));\n",
              "    fill: #FFFFFF;\n",
              "  }\n",
              "</style>\n",
              "\n",
              "  <script>\n",
              "    async function quickchart(key) {\n",
              "      const charts = await google.colab.kernel.invokeFunction(\n",
              "          'suggestCharts', [key], {});\n",
              "    }\n",
              "    (() => {\n",
              "      let quickchartButtonEl =\n",
              "        document.querySelector('#df-82a925e5-b730-4976-af1d-05fc99b48921 button');\n",
              "      quickchartButtonEl.style.display =\n",
              "        google.colab.kernel.accessAllowed ? 'block' : 'none';\n",
              "    })();\n",
              "  </script>\n",
              "</div>\n",
              "    </div>\n",
              "  </div>\n"
            ]
          },
          "metadata": {},
          "execution_count": 7
        }
      ],
      "source": [
        "images_df.drop(columns='Unnamed: 0', inplace=True)\n",
        "images_df.head()"
      ]
    },
    {
      "cell_type": "code",
      "source": [
        "# Extract labels and images\n",
        "labels = images_df.iloc[:, 0].values\n",
        "images = images_df.iloc[:, 1:].values\n",
        "\n",
        "# Reshape the images\n",
        "images = images.reshape(-1, 28, 28, 3)"
      ],
      "metadata": {
        "id": "hyEZRr2-tIBX"
      },
      "execution_count": 8,
      "outputs": []
    },
    {
      "cell_type": "code",
      "source": [
        "# Create a train test split\n",
        "X = images\n",
        "y = labels\n",
        "\n",
        "# Split into train and temp (test + validation)\n",
        "X_train, X_temp, y_train, y_temp = train_test_split(X, y, test_size=0.3, stratify = y, random_state=42)\n",
        "\n",
        "# # 70-15-15 split for training, validation, and test sets\n",
        "X_val, X_test, y_val, y_test = train_test_split(X_temp, y_temp, test_size=0.5, random_state=42)\n",
        "\n",
        "print(\"Training set shape:\", X_train.shape)\n",
        "print(\"Validation set shape:\", X_val.shape)\n",
        "print(\"Test set shape:\", X_test.shape)"
      ],
      "metadata": {
        "colab": {
          "base_uri": "https://localhost:8080/"
        },
        "id": "zrDJ3Jo4tzzR",
        "outputId": "9bcb5209-1778-4352-a4a2-6ef001dd9be4"
      },
      "execution_count": 9,
      "outputs": [
        {
          "output_type": "stream",
          "name": "stdout",
          "text": [
            "Training set shape: (15794, 28, 28, 3)\n",
            "Validation set shape: (3385, 28, 28, 3)\n",
            "Test set shape: (3385, 28, 28, 3)\n"
          ]
        }
      ]
    },
    {
      "cell_type": "code",
      "source": [
        "#BEST PERFORMER"
      ],
      "metadata": {
        "id": "UJvm83l326WC"
      },
      "execution_count": null,
      "outputs": []
    },
    {
      "cell_type": "code",
      "source": [
        "model = Sequential()\n",
        "\n",
        "# First convolutional layer\n",
        "model.add(Conv2D(32, 3, activation='relu', input_shape=(28, 28, 3)))\n",
        "model.add(MaxPooling2D(2))\n",
        "model.add(Dropout(0.25))\n",
        "\n",
        "# Second convolutional layer\n",
        "model.add(Conv2D(64, 3, activation='relu'))\n",
        "model.add(MaxPooling2D(2))\n",
        "model.add(Dropout(0.25))\n",
        "\n",
        "# Third convolutional layer\n",
        "model.add(Conv2D(128, 3, activation='relu'))\n",
        "model.add(MaxPooling2D(2))\n",
        "model.add(Dropout(0.25))\n",
        "\n",
        "# Fully connected layer\n",
        "model.add(Flatten())\n",
        "model.add(Dense(128, activation='relu'))\n",
        "model.add(Dropout(0.5))\n",
        "\n",
        "# Output layer\n",
        "model.add(Dense(1, activation='sigmoid'))"
      ],
      "metadata": {
        "id": "InYtBa71t0DP"
      },
      "execution_count": 25,
      "outputs": []
    },
    {
      "cell_type": "code",
      "source": [
        "# Compile the model\n",
        "model.compile(optimizer='adam',\n",
        "              loss='binary_crossentropy',\n",
        "              metrics=['accuracy'])"
      ],
      "metadata": {
        "id": "zT7E9lDRveZP"
      },
      "execution_count": 26,
      "outputs": []
    },
    {
      "cell_type": "code",
      "source": [
        "# Add EarlyStopping callback\n",
        "es = EarlyStopping(monitor='val_loss', patience=3, verbose=0)\n",
        "\n",
        "# Fit the model\n",
        "history = model.fit(X_train, y_train,\n",
        "                    batch_size=128,\n",
        "                    epochs=10,\n",
        "                    verbose=1,\n",
        "                    callbacks=[es],\n",
        "                    validation_data=(X_val, y_val))\n"
      ],
      "metadata": {
        "colab": {
          "base_uri": "https://localhost:8080/"
        },
        "id": "O7BqU6MxwzpK",
        "outputId": "03e29847-f0ec-4627-c144-c9ac4c02e68f"
      },
      "execution_count": 27,
      "outputs": [
        {
          "output_type": "stream",
          "name": "stdout",
          "text": [
            "Epoch 1/10\n",
            "124/124 [==============================] - 20s 154ms/step - loss: 0.5150 - accuracy: 0.7574 - val_loss: 0.4617 - val_accuracy: 0.8050\n",
            "Epoch 2/10\n",
            "124/124 [==============================] - 21s 172ms/step - loss: 0.4541 - accuracy: 0.8026 - val_loss: 0.4528 - val_accuracy: 0.8027\n",
            "Epoch 3/10\n",
            "124/124 [==============================] - 18s 149ms/step - loss: 0.4393 - accuracy: 0.8101 - val_loss: 0.4265 - val_accuracy: 0.8180\n",
            "Epoch 4/10\n",
            "124/124 [==============================] - 18s 148ms/step - loss: 0.4152 - accuracy: 0.8207 - val_loss: 0.4097 - val_accuracy: 0.8109\n",
            "Epoch 5/10\n",
            "124/124 [==============================] - 20s 159ms/step - loss: 0.4008 - accuracy: 0.8278 - val_loss: 0.3780 - val_accuracy: 0.8355\n",
            "Epoch 6/10\n",
            "124/124 [==============================] - 18s 146ms/step - loss: 0.3995 - accuracy: 0.8290 - val_loss: 0.3699 - val_accuracy: 0.8402\n",
            "Epoch 7/10\n",
            "124/124 [==============================] - 18s 148ms/step - loss: 0.3961 - accuracy: 0.8297 - val_loss: 0.3627 - val_accuracy: 0.8473\n",
            "Epoch 8/10\n",
            "124/124 [==============================] - 18s 143ms/step - loss: 0.3782 - accuracy: 0.8392 - val_loss: 0.3857 - val_accuracy: 0.8298\n",
            "Epoch 9/10\n",
            "124/124 [==============================] - 20s 164ms/step - loss: 0.3676 - accuracy: 0.8436 - val_loss: 0.3585 - val_accuracy: 0.8538\n",
            "Epoch 10/10\n",
            "124/124 [==============================] - 18s 147ms/step - loss: 0.3688 - accuracy: 0.8437 - val_loss: 0.3644 - val_accuracy: 0.8399\n"
          ]
        }
      ]
    },
    {
      "cell_type": "code",
      "source": [
        "# Evaluate the model\n",
        "test_loss, test_acc = model.evaluate(X_test, y_test)\n"
      ],
      "metadata": {
        "colab": {
          "base_uri": "https://localhost:8080/"
        },
        "id": "qiStWzrGvfqr",
        "outputId": "ad4fabd3-e019-4ccd-d944-8d4b760563dd"
      },
      "execution_count": 23,
      "outputs": [
        {
          "output_type": "stream",
          "name": "stdout",
          "text": [
            "106/106 [==============================] - 1s 9ms/step - loss: 0.3411 - accuracy: 0.8520\n"
          ]
        }
      ]
    },
    {
      "cell_type": "code",
      "source": [
        "# TESTING AREA"
      ],
      "metadata": {
        "id": "3sGqSxmA2_zU"
      },
      "execution_count": null,
      "outputs": []
    },
    {
      "cell_type": "code",
      "source": [],
      "metadata": {
        "id": "Mht4yGwH8sr_"
      },
      "execution_count": null,
      "outputs": []
    },
    {
      "cell_type": "code",
      "source": [
        "model = Sequential()\n",
        "\n",
        "# First convolutional layer\n",
        "model.add(Conv2D(32, 3, activation='relu', input_shape=(28, 28, 3)))\n",
        "model.add(MaxPooling2D(2))\n",
        "model.add(Dropout(0.2))\n",
        "\n",
        "# Second convolutional layer\n",
        "model.add(Conv2D(64, 3, activation='relu'))\n",
        "model.add(MaxPooling2D(2))\n",
        "model.add(Dropout(0.25))\n",
        "\n",
        "# Third convolutional layer\n",
        "model.add(Conv2D(128, 3, activation='relu'))\n",
        "model.add(Dropout(0.3))\n",
        "\n",
        "# Fully connected layers\n",
        "model.add(Flatten())\n",
        "model.add(Dense(256, activation='relu'))\n",
        "model.add(Dropout(0.5))\n",
        "model.add(Dense(128, activation='relu'))\n",
        "model.add(Dropout(0.5))\n",
        "\n",
        "# Output layer\n",
        "model.add(Dense(1, activation='sigmoid'))\n",
        "\n",
        "model.compile(optimizer='adam',\n",
        "              loss='binary_crossentropy',\n",
        "              metrics=['accuracy'])\n",
        "\n",
        "\n",
        "# Set up EarlyStopping callback\n",
        "es= EarlyStopping(monitor='val_loss', patience=5)\n",
        "\n",
        "# Feature Engineering : Data Augmentation\n",
        "datagen = ImageDataGenerator(\n",
        "    rotation_range=15,\n",
        "    width_shift_range=0.1,\n",
        "    height_shift_range=0.1,\n",
        "    shear_range=0.1,\n",
        "    zoom_range=0.1,\n",
        "    horizontal_flip=True,\n",
        "    fill_mode='nearest'\n",
        ")\n",
        "\n",
        "# Fit Augmentation\n",
        "datagen.fit(X_train)\n",
        "\n",
        "# Create variable for batch size\n",
        "batch_size = 64\n",
        "\n",
        "# Model training with data augmentation\n",
        "model.fit(datagen.flow(X_train, y_train, batch_size=batch_size),\n",
        "          steps_per_epoch=len(X_train) / batch_size,\n",
        "          epochs=20,\n",
        "          validation_data=(X_val, y_val),\n",
        "          callbacks=[es])\n"
      ],
      "metadata": {
        "colab": {
          "base_uri": "https://localhost:8080/"
        },
        "id": "TC-PH-_txtuX",
        "outputId": "ca827367-31a3-4167-a3fe-c9686175c99b"
      },
      "execution_count": 13,
      "outputs": [
        {
          "output_type": "stream",
          "name": "stdout",
          "text": [
            "Epoch 1/20\n",
            "246/246 [==============================] - 13s 40ms/step - loss: 0.4888 - accuracy: 0.7771 - val_loss: 0.4400 - val_accuracy: 0.8160\n",
            "Epoch 2/20\n",
            "246/246 [==============================] - 10s 39ms/step - loss: 0.4420 - accuracy: 0.8075 - val_loss: 0.4244 - val_accuracy: 0.8174\n",
            "Epoch 3/20\n",
            "246/246 [==============================] - 8s 33ms/step - loss: 0.4284 - accuracy: 0.8151 - val_loss: 0.4079 - val_accuracy: 0.8210\n",
            "Epoch 4/20\n",
            "246/246 [==============================] - 10s 40ms/step - loss: 0.4174 - accuracy: 0.8163 - val_loss: 0.3891 - val_accuracy: 0.8352\n",
            "Epoch 5/20\n",
            "246/246 [==============================] - 10s 40ms/step - loss: 0.4135 - accuracy: 0.8196 - val_loss: 0.4024 - val_accuracy: 0.8275\n",
            "Epoch 6/20\n",
            "246/246 [==============================] - 8s 33ms/step - loss: 0.4051 - accuracy: 0.8222 - val_loss: 0.3873 - val_accuracy: 0.8340\n",
            "Epoch 7/20\n",
            "246/246 [==============================] - 8s 34ms/step - loss: 0.4006 - accuracy: 0.8264 - val_loss: 0.3803 - val_accuracy: 0.8352\n",
            "Epoch 8/20\n",
            "246/246 [==============================] - 10s 40ms/step - loss: 0.3918 - accuracy: 0.8315 - val_loss: 0.3794 - val_accuracy: 0.8419\n",
            "Epoch 9/20\n",
            "246/246 [==============================] - 10s 40ms/step - loss: 0.3817 - accuracy: 0.8370 - val_loss: 0.3793 - val_accuracy: 0.8366\n",
            "Epoch 10/20\n",
            "246/246 [==============================] - 8s 33ms/step - loss: 0.3832 - accuracy: 0.8361 - val_loss: 0.3720 - val_accuracy: 0.8402\n",
            "Epoch 11/20\n",
            "246/246 [==============================] - 10s 39ms/step - loss: 0.3799 - accuracy: 0.8405 - val_loss: 0.3698 - val_accuracy: 0.8490\n",
            "Epoch 12/20\n",
            "246/246 [==============================] - 10s 40ms/step - loss: 0.3769 - accuracy: 0.8407 - val_loss: 0.3694 - val_accuracy: 0.8549\n",
            "Epoch 13/20\n",
            "246/246 [==============================] - 8s 33ms/step - loss: 0.3718 - accuracy: 0.8416 - val_loss: 0.3601 - val_accuracy: 0.8505\n",
            "Epoch 14/20\n",
            "246/246 [==============================] - 9s 37ms/step - loss: 0.3729 - accuracy: 0.8420 - val_loss: 0.4056 - val_accuracy: 0.8216\n",
            "Epoch 15/20\n",
            "246/246 [==============================] - 10s 40ms/step - loss: 0.3752 - accuracy: 0.8423 - val_loss: 0.3912 - val_accuracy: 0.8352\n",
            "Epoch 16/20\n",
            "246/246 [==============================] - 8s 34ms/step - loss: 0.3688 - accuracy: 0.8444 - val_loss: 0.3739 - val_accuracy: 0.8579\n",
            "Epoch 17/20\n",
            "246/246 [==============================] - 9s 38ms/step - loss: 0.3632 - accuracy: 0.8449 - val_loss: 0.3542 - val_accuracy: 0.8588\n",
            "Epoch 18/20\n",
            "246/246 [==============================] - 10s 40ms/step - loss: 0.3664 - accuracy: 0.8455 - val_loss: 0.3823 - val_accuracy: 0.8452\n",
            "Epoch 19/20\n",
            "246/246 [==============================] - 9s 36ms/step - loss: 0.3589 - accuracy: 0.8483 - val_loss: 0.3435 - val_accuracy: 0.8541\n",
            "Epoch 20/20\n",
            "246/246 [==============================] - 8s 33ms/step - loss: 0.3561 - accuracy: 0.8493 - val_loss: 0.3644 - val_accuracy: 0.8473\n"
          ]
        },
        {
          "output_type": "execute_result",
          "data": {
            "text/plain": [
              "<keras.callbacks.History at 0x7fae7be1c280>"
            ]
          },
          "metadata": {},
          "execution_count": 13
        }
      ]
    },
    {
      "cell_type": "code",
      "source": [
        "# Evaluate the model\n",
        "test_loss, test_acc = model.evaluate(X_test, y_test)\n"
      ],
      "metadata": {
        "colab": {
          "base_uri": "https://localhost:8080/"
        },
        "id": "9llQb79522M4",
        "outputId": "5970d1d4-50ad-4766-a377-5a6cab9efe74"
      },
      "execution_count": 11,
      "outputs": [
        {
          "output_type": "stream",
          "name": "stdout",
          "text": [
            "106/106 [==============================] - 0s 3ms/step - loss: 0.3446 - accuracy: 0.8576\n"
          ]
        }
      ]
    },
    {
      "cell_type": "code",
      "source": [
        "# Set up ReduceLROnPlateau callback\n",
        "# reduce_lr = ReduceLROnPlateau(monitor='val_loss', factor=0.2,\n",
        "                              #patience=5, min_lr=0.001)"
      ],
      "metadata": {
        "id": "oZDoxBmNB81x"
      },
      "execution_count": null,
      "outputs": []
    }
  ]
}